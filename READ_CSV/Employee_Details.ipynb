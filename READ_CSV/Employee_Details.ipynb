{
 "cells": [
  {
   "cell_type": "markdown",
   "id": "5e3728e8",
   "metadata": {},
   "source": [
    "Importing required libraries"
   ]
  },
  {
   "cell_type": "code",
   "execution_count": 1,
   "id": "f6cb493e",
   "metadata": {},
   "outputs": [],
   "source": [
    "import pandas as pd"
   ]
  },
  {
   "cell_type": "markdown",
   "id": "76a01f39",
   "metadata": {},
   "source": [
    "Reading CSV File and performing operations"
   ]
  },
  {
   "cell_type": "code",
   "execution_count": 2,
   "id": "ad2e981e",
   "metadata": {},
   "outputs": [
    {
     "name": "stdout",
     "output_type": "stream",
     "text": [
      "Top 5 rows and only 5 columns -\n",
      "   EmployeeID  Department  MonthlyIncome  Age MaritalStatus\n",
      "0     1313919  Cardiology           5993   41        Single\n",
      "1     1200302   Maternity           5130   49       Married\n",
      "2     1060315   Maternity           2090   37        Single\n",
      "3     1272912   Maternity           2909   33       Married\n",
      "4     1414939   Maternity           3468   27       Married\n",
      "Average Salary by department -\n",
      "Department\n",
      "Cardiology    6961.82\n",
      "Maternity     5402.03\n",
      "Neurology     8380.90\n",
      "Name: MonthlyIncome, dtype: float64\n",
      "Employee Count per Department -\n",
      "Department\n",
      "Cardiology    531\n",
      "Maternity     796\n",
      "Neurology     349\n",
      "Name: EmployeeID, dtype: int64\n"
     ]
    }
   ],
   "source": [
    "df = pd.read_csv(\"C:\\\\Users\\\\harssaxena\\\\Desktop\\\\Learning\\\\archive\\\\watson_healthcare_modified.csv\")\n",
    "df_subset = df[[\"EmployeeID\", \"Department\", \"MonthlyIncome\", \"Age\", \"MaritalStatus\"]]\n",
    "print(\"Top 5 rows and only 5 columns -\")\n",
    "print(df_subset.head())\n",
    "\n",
    "avg_salary = df.groupby(\"Department\")[\"MonthlyIncome\"].mean()\n",
    "avg_salary = avg_salary.round(2)\n",
    "print(\"Average Salary by department -\")\n",
    "print(avg_salary)\n",
    "\n",
    "emp_count = df.groupby(\"Department\")[\"EmployeeID\"].count()\n",
    "print(\"Employee Count per Department -\")\n",
    "print(emp_count)\n"
   ]
  }
 ],
 "metadata": {
  "kernelspec": {
   "display_name": "Python 3",
   "language": "python",
   "name": "python3"
  },
  "language_info": {
   "codemirror_mode": {
    "name": "ipython",
    "version": 3
   },
   "file_extension": ".py",
   "mimetype": "text/x-python",
   "name": "python",
   "nbconvert_exporter": "python",
   "pygments_lexer": "ipython3",
   "version": "3.11.0"
  }
 },
 "nbformat": 4,
 "nbformat_minor": 5
}
